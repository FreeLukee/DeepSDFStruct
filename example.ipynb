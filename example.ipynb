{
 "cells": [
  {
   "cell_type": "markdown",
   "id": "bc084561",
   "metadata": {},
   "source": [
    "## 🚀 Quick Start\n",
    "Here's a simple example using a pretrained DeepSDF model, lattice structure generation, and deformation:"
   ]
  },
  {
   "cell_type": "code",
   "execution_count": 42,
   "id": "aaf3fba2",
   "metadata": {},
   "outputs": [],
   "source": [
    "from DeepSDFStruct.pretrained_models import get_model, PretrainedModels\n",
    "from DeepSDFStruct.SDF import SDFfromDeepSDF\n",
    "from DeepSDFStruct.lattice_structure import LatticeSDFStruct\n",
    "from DeepSDFStruct.parametrization import Constant\n",
    "from DeepSDFStruct.torch_spline import TorchSpline\n",
    "import splinepy\n",
    "import torch"
   ]
  },
  {
   "cell_type": "markdown",
   "id": "a959b74e",
   "metadata": {},
   "source": [
    "### Load a pretrained DeepSDF model"
   ]
  },
  {
   "cell_type": "code",
   "execution_count": 43,
   "id": "3aa90ecd",
   "metadata": {},
   "outputs": [],
   "source": [
    "model = get_model(PretrainedModels.AnalyticRoundCross)\n",
    "sdf = SDFfromDeepSDF(model)"
   ]
  },
  {
   "cell_type": "markdown",
   "id": "c50bdc59",
   "metadata": {},
   "source": [
    "### Set the latent vector and visualize a slice of the SDF"
   ]
  },
  {
   "cell_type": "code",
   "execution_count": 44,
   "id": "f6c93d09",
   "metadata": {},
   "outputs": [
    {
     "data": {
      "image/png": "[encoded data removed]",
      "text/plain": [
       "<Figure size 640x480 with 1 Axes>"
      ]
     },
     "metadata": {},
     "output_type": "display_data"
    }
   ],
   "source": [
    "sdf.set_latent_vec(torch.tensor([0.3]))\n",
    "_ = sdf.plot_slice(origin=(0.5, 0.5, 0.5))"
   ]
  },
  {
   "cell_type": "markdown",
   "id": "d4b0db0f",
   "metadata": {},
   "source": [
    "### Define a spline-based deformation field"
   ]
  },
  {
   "cell_type": "code",
   "execution_count": 45,
   "id": "98eea91d",
   "metadata": {},
   "outputs": [],
   "source": [
    "deformation_spline = TorchSpline(splinepy.helpme.create.box(1, 1, 1).bspline)"
   ]
  },
  {
   "cell_type": "markdown",
   "id": "6f4a8262",
   "metadata": {},
   "source": [
    "### Create the lattice structure with deformation and microtile"
   ]
  },
  {
   "cell_type": "code",
   "execution_count": 46,
   "id": "fc0a5020",
   "metadata": {},
   "outputs": [],
   "source": [
    "lattice_struct = LatticeSDFStruct(\n",
    "    tiling=(3, 3, 1),\n",
    "    deformation_spline=deformation_spline,\n",
    "    microtile=sdf,\n",
    "    parametrization=Constant([0.5], device=model.device),\n",
    ")"
   ]
  },
  {
   "cell_type": "markdown",
   "id": "31295a99",
   "metadata": {},
   "source": [
    "### Visualize a slice of the final lattice structure"
   ]
  },
  {
   "cell_type": "code",
   "execution_count": 47,
   "id": "3b8e8ead",
   "metadata": {},
   "outputs": [
    {
     "data": {
      "image/png": "[encoded data removed]",
      "text/plain": [
       "<Figure size 640x480 with 1 Axes>"
      ]
     },
     "metadata": {},
     "output_type": "display_data"
    }
   ],
   "source": [
    "_ = lattice_struct.plot_slice(origin=(0, 0, 0.5))"
   ]
  },
  {
   "cell_type": "markdown",
   "id": "d88d096e",
   "metadata": {},
   "source": [
    "Since all SDFs are callable, the signed distance can be obtained by calling e.g."
   ]
  },
  {
   "cell_type": "code",
   "execution_count": 48,
   "id": "186e942b",
   "metadata": {},
   "outputs": [
    {
     "data": {
      "text/plain": [
       "tensor([0.9142, 0.9142])"
      ]
     },
     "execution_count": 48,
     "metadata": {},
     "output_type": "execute_result"
    }
   ],
   "source": [
    "lattice_struct(torch.tensor([[0, 0, 0], [0, 1, 0]], dtype=torch.float32))"
   ]
  },
  {
   "cell_type": "markdown",
   "id": "b2d30d6d",
   "metadata": {},
   "source": [
    "Furthermore, a differentiable surface mesh can be extracted and exported"
   ]
  },
  {
   "cell_type": "code",
   "execution_count": 49,
   "id": "d542e2d4",
   "metadata": {},
   "outputs": [
    {
     "name": "stdout",
     "output_type": "stream",
     "text": [
      "Mesh saved to mesh_with_derivative.vtk\n"
     ]
    }
   ],
   "source": [
    "from DeepSDFStruct.mesh import create_3D_surface_mesh, export_surface_mesh\n",
    "surf_mesh, derivative = create_3D_surface_mesh(\n",
    "    lattice_struct, 30, differentiate=True\n",
    ")\n",
    "export_surface_mesh(\n",
    "    \"mesh_with_derivative.vtk\",surf_mesh, derivative\n",
    ")"
   ]
  },
  {
   "cell_type": "markdown",
   "id": "e25afe91",
   "metadata": {},
   "source": [
    "The libraries gustaf and meshio can be used to export the mesh to differnt formats."
   ]
  },
  {
   "cell_type": "code",
   "execution_count": 50,
   "id": "76395717",
   "metadata": {},
   "outputs": [],
   "source": [
    "import gustaf as gus\n",
    "faces = surf_mesh.to_gus()\n",
    "gus.io.meshio.export(\"faces.inp\", faces)\n",
    "gus.io.meshio.export(\"faces.obj\", faces)"
   ]
  },
  {
   "cell_type": "markdown",
   "id": "692e24a2",
   "metadata": {},
   "source": [
    "Finally, there is also a functionality to create a volumetric mesh from the generated surface mesh."
   ]
  },
  {
   "cell_type": "code",
   "execution_count": 51,
   "id": "1d35576b",
   "metadata": {},
   "outputs": [],
   "source": [
    "from DeepSDFStruct.mesh import tetrahedralize_surface\n",
    "volumes, _ = tetrahedralize_surface(faces)\n",
    "gus.io.mfem.export(\"volumes.mfem\", volumes)"
   ]
  },
  {
   "cell_type": "markdown",
   "id": "1ad7c127",
   "metadata": {},
   "source": [
    "### Training a Model\n",
    "A model can be trained by using the `train_deep_sdf` function that takes as input the experiment directory and the data directory.`train_deep_sdf(\"DeepSDFStruct/trained_models/test_experiment\", data_dir)`"
   ]
  },
  {
   "cell_type": "code",
   "execution_count": 52,
   "id": "debfe83c",
   "metadata": {},
   "outputs": [],
   "source": [
    "from DeepSDFStruct.deep_sdf.training import train_deep_sdf"
   ]
  },
  {
   "cell_type": "markdown",
   "id": "df4bdaae",
   "metadata": {},
   "source": [
    "Example data can be downloaded from huggingface"
   ]
  },
  {
   "cell_type": "code",
   "execution_count": 53,
   "id": "8092f914",
   "metadata": {},
   "outputs": [
    {
     "name": "stderr",
     "output_type": "stream",
     "text": [
      "Fetching 124 files: 100%|██████████| 124/124 [00:00<00:00, 5607.48it/s]\n",
      "05:32:01 Experiment description: \n",
      "This experiment is intented for testing purposes only.\n",
      "05:32:01 training on NVIDIA RTX 4000 SFF Ada Generation\n",
      "05:32:01 Setting random seed to 42\n",
      "05:32:01 There are 20 scenes\n",
      "05:32:01 starting from epoch 1\n",
      "05:32:01 Number of decoder parameters: 5530\n",
      "05:32:01 Number of shape code parameters: 20 (# codes 20, code dim 1)\n",
      "05:32:01 Finished epoch     1/10 | with Reg.: 0.0000 and Tot.: 0.0711 [10.00%] in 0:00:01 (0.13s/epoch)\n",
      "05:32:01 Finished epoch     2/10 | with Reg.: 0.0000 and Tot.: 0.0668 [20.00%] in 0:00:01 (0.13s/epoch)\n",
      "05:32:01 Finished epoch     3/10 | with Reg.: 0.0000 and Tot.: 0.0641 [30.00%] in 0:00:01 (0.13s/epoch)\n",
      "05:32:01 Finished epoch     4/10 | with Reg.: 0.0000 and Tot.: 0.0621 [40.00%] in 0:00:01 (0.13s/epoch)\n",
      "05:32:01 Finished epoch     5/10 | with Reg.: 0.0000 and Tot.: 0.0615 [50.00%] in 0:00:01 (0.13s/epoch)\n",
      "05:32:01 Finished epoch     6/10 | with Reg.: 0.0000 and Tot.: 0.0609 [60.00%] in 0:00:01 (0.13s/epoch)\n",
      "05:32:02 Finished epoch     7/10 | with Reg.: 0.0000 and Tot.: 0.0603 [70.00%] in 0:00:00 (0.13s/epoch)\n",
      "05:32:02 Finished epoch     8/10 | with Reg.: 0.0000 and Tot.: 0.0599 [80.00%] in 0:00:00 (0.13s/epoch)\n",
      "05:32:02 Finished epoch     9/10 | with Reg.: 0.0000 and Tot.: 0.0610 [90.00%] in 0:00:00 (0.13s/epoch)\n",
      "05:32:02 Finished 10 (10/10) [100.00%] after 0:00:01\n"
     ]
    }
   ],
   "source": [
    "from huggingface_hub import snapshot_download\n",
    "data_dir = snapshot_download(\n",
    "    \"mkofler/lattice_structure_unit_cells\", repo_type=\"dataset\"\n",
    ")\n",
    "train_deep_sdf(\"DeepSDFStruct/trained_models/test_experiment\", data_dir)"
   ]
  },
  {
   "cell_type": "markdown",
   "id": "824e4291",
   "metadata": {},
   "source": [
    "Note that this data contains the preprocessed and sampled data. \n",
    "The data that is used for training a DeepSDF model needs to be in the form of `.npz` files that contain the negative and positive points as an [x,y,z] array.\n",
    "This can be achieved by using numpy's export function:\n",
    "```python\n",
    "np.savez(file_name, neg=neg_points, pos=pos_points)\n",
    "```"
   ]
  },
  {
   "cell_type": "markdown",
   "id": "78e44c6d",
   "metadata": {},
   "source": [
    "### Generation of Training Data\n",
    "Different types of geometry representations can be used for training. One possibility is to use the python library splinepy:"
   ]
  },
  {
   "cell_type": "code",
   "execution_count": 54,
   "id": "8d280f42",
   "metadata": {},
   "outputs": [
    {
     "name": "stderr",
     "output_type": "stream",
     "text": [
      "05:32:02 processing geometry list Chi3D_center\n",
      "Processing instances:   0%|          | 0/4 [00:00<?, ?it/s]05:32:02 File training_data/microstructure/Chi3D_center/Chi3D_center_00000.npz already exists\n",
      "05:32:02 File training_data/microstructure/Chi3D_center/Chi3D_center_00001.npz already exists\n",
      "05:32:02 File training_data/microstructure/Chi3D_center/Chi3D_center_00002.npz already exists\n",
      "05:32:02 File training_data/microstructure/Chi3D_center/Chi3D_center_00003.npz already exists\n",
      "Processing instances: 100%|██████████| 4/4 [00:00<00:00, 1058.30it/s]\n",
      "05:32:02 processing geometry list CrossLattice\n",
      "Processing instances:   0%|          | 0/3 [00:00<?, ?it/s]05:32:02 File training_data/microstructure/CrossLattice/CrossLattice_00000.npz already exists\n",
      "05:32:02 File training_data/microstructure/CrossLattice/CrossLattice_00001.npz already exists\n",
      "05:32:02 File training_data/microstructure/CrossLattice/CrossLattice_00002.npz already exists\n",
      "Processing instances: 100%|██████████| 3/3 [00:00<00:00, 1100.87it/s]\n"
     ]
    }
   ],
   "source": [
    "import splinepy\n",
    "import numpy as np\n",
    "from DeepSDFStruct.sampling import SDFSampler\n",
    "from DeepSDFStruct.splinepy_unitcells.chi_3D import Chi3D\n",
    "from DeepSDFStruct.splinepy_unitcells.cross_lattice import CrossLattice\n",
    "\n",
    "outdir = \"./training_data\"\n",
    "splitdir = \"./training_data/splits\"\n",
    "dataset_name = \"microstructure\"\n",
    "\n",
    "sdf_sampler = SDFSampler(outdir, splitdir, dataset_name)\n",
    "\n",
    "t_start = 0.1 * np.sqrt(2) / 2\n",
    "t_end = 0.15 * np.sqrt(2) / 2\n",
    "crosslattice_tiles = []\n",
    "for t in np.linspace(t_start, t_end, 3):\n",
    "    tile, _ = CrossLattice().create_tile(np.array([[t]]), make3D=True)\n",
    "    crosslattice_tiles.append(splinepy.Multipatch(tile))\n",
    "\n",
    "chi = Chi3D()\n",
    "chi_tiles = []\n",
    "\n",
    "for phi in np.linspace(0, -np.pi / 6, 2):\n",
    "    for x2 in np.linspace(-0.1, 0.2, 2):\n",
    "        t = 0.1\n",
    "        x1 = 0.2\n",
    "        r = 0.5 * t\n",
    "        tile, _ = chi.create_tile(np.array([[phi, t, x1, x2, r]] * 5))\n",
    "        chi_tiles.append(splinepy.Multipatch(tile))\n",
    "\n",
    "sdf_sampler.add_class(chi_tiles, class_name=\"Chi3D_center\")\n",
    "sdf_sampler.add_class(crosslattice_tiles, class_name=\"CrossLattice\")\n",
    "\n",
    "sdf_sampler.process_geometries(\n",
    "    sampling_strategy=\"uniform\", n_faces=100, compute_mechanical_properties=False\n",
    ")\n",
    "\n",
    "sdf_sampler.write_json(\"chi_and_cross.json\")"
   ]
  }
 ],
 "metadata": {
  "kernelspec": {
   "display_name": "deepsdfstruct (3.13.3)",
   "language": "python",
   "name": "python3"
  },
  "language_info": {
   "codemirror_mode": {
    "name": "ipython",
    "version": 3
   },
   "file_extension": ".py",
   "mimetype": "text/x-python",
   "name": "python",
   "nbconvert_exporter": "python",
   "pygments_lexer": "ipython3",
   "version": "3.13.3"
  }
 },
 "nbformat": 4,
 "nbformat_minor": 5
}
